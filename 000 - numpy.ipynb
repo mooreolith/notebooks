{
 "cells": [
  {
   "cell_type": "code",
   "execution_count": 1,
   "id": "60360ae5-9622-4ecd-8c62-56b68e4decca",
   "metadata": {},
   "outputs": [
    {
     "name": "stdout",
     "output_type": "stream",
     "text": [
      "Defaulting to user installation because normal site-packages is not writeable\n",
      "Collecting numpy\n",
      "  Downloading numpy-1.23.0-cp39-cp39-manylinux_2_17_x86_64.manylinux2014_x86_64.whl (17.1 MB)\n",
      "\u001b[K     |████████████████████████████████| 17.1 MB 2.6 MB/s eta 0:00:01\n",
      "\u001b[?25hInstalling collected packages: numpy\n",
      "\u001b[33m  WARNING: Value for scheme.platlib does not match. Please report this to <https://github.com/pypa/pip/issues/10151>\n",
      "  distutils: /home/moore/.local/lib/python3.9/site-packages\n",
      "  sysconfig: /home/moore/.local/lib64/python3.9/site-packages\u001b[0m\n",
      "\u001b[33m  WARNING: Additional context:\n",
      "  user = True\n",
      "  home = None\n",
      "  root = None\n",
      "  prefix = None\u001b[0m\n",
      "Successfully installed numpy-1.23.0\n"
     ]
    }
   ],
   "source": [
    "!pip install numpy"
   ]
  },
  {
   "cell_type": "code",
   "execution_count": 2,
   "id": "3a259413-f970-4c52-9765-260149c84886",
   "metadata": {},
   "outputs": [],
   "source": [
    "import numpy as np"
   ]
  },
  {
   "cell_type": "code",
   "execution_count": 3,
   "id": "cd38e8e3-d772-4cc3-b249-d66f29d40a1d",
   "metadata": {},
   "outputs": [],
   "source": [
    "A = [[6, 7],\n",
    "     [8, 0]]"
   ]
  },
  {
   "cell_type": "code",
   "execution_count": 5,
   "id": "e8e961fa-3bc0-4b4a-9f6b-9f4eadf1030b",
   "metadata": {},
   "outputs": [
    {
     "name": "stdout",
     "output_type": "stream",
     "text": [
      "6\n"
     ]
    }
   ],
   "source": [
    "print(np.array(A)[0, 0])"
   ]
  },
  {
   "cell_type": "code",
   "execution_count": 6,
   "id": "9a53fa36-e5bc-4b3b-8fe0-889a0d3187ac",
   "metadata": {},
   "outputs": [],
   "source": [
    "A = 5"
   ]
  },
  {
   "cell_type": "code",
   "execution_count": 7,
   "id": "e26be055-3e83-4d81-bb84-bdb2b069bc57",
   "metadata": {},
   "outputs": [],
   "source": [
    "B = [[6, 7],\n",
    "     [8, 9]]"
   ]
  },
  {
   "cell_type": "code",
   "execution_count": 9,
   "id": "9fd48b97-a54c-4122-b386-2d2c8d969b0b",
   "metadata": {},
   "outputs": [
    {
     "name": "stdout",
     "output_type": "stream",
     "text": [
      "[[30 35]\n",
      " [40 45]]\n"
     ]
    }
   ],
   "source": [
    "print(np.dot(A, B))"
   ]
  },
  {
   "cell_type": "code",
   "execution_count": 10,
   "id": "0c90e940-ce1e-40ce-a957-bd1c34e39399",
   "metadata": {},
   "outputs": [
    {
     "name": "stdout",
     "output_type": "stream",
     "text": [
      "[[41 67]\n",
      " [53 87]]\n",
      "[[30 34]\n",
      " [86 98]]\n"
     ]
    }
   ],
   "source": [
    "A = [[6, 7],\n",
    "     [8, 9]]\n",
    "\n",
    "B = [[1, 3],\n",
    "     [5, 7]]\n",
    "\n",
    "print(np.dot(A, B))\n",
    "print(np.dot(B, A))"
   ]
  },
  {
   "cell_type": "code",
   "execution_count": 11,
   "id": "b59c4278-8f1a-401d-8298-0c545e8f7732",
   "metadata": {},
   "outputs": [
    {
     "name": "stdout",
     "output_type": "stream",
     "text": [
      "[[ 1  6 15 28 45]\n",
      " [10 16 18 16 10]]\n"
     ]
    }
   ],
   "source": [
    "import numpy as np\n",
    "\n",
    "A = np.array([[1, 3, 5, 7, 9], [2, 4, 6, 8, 10]])\n",
    "B = np.array([[1, 2, 3, 4, 5], [5, 4, 3, 2, 1]])\n",
    "\n",
    "print(np.multiply(A,B))"
   ]
  },
  {
   "cell_type": "code",
   "execution_count": 14,
   "id": "bff8dc9d-7893-437e-aca3-9c9dd13368f6",
   "metadata": {},
   "outputs": [
    {
     "name": "stdout",
     "output_type": "stream",
     "text": [
      "[ 16  34  54  76 100]\n",
      "[ 66  84 104 126 150]\n"
     ]
    }
   ],
   "source": [
    "import numpy as np\n",
    "\n",
    "A = np.array([[1, 2, 3, 4, 5], [6, 7, 8, 9, 10]])\n",
    "B = np.array([[11, 12, 13, 14, 15], [16, 17, 18, 19, 20]])\n",
    "\n",
    "print(np.multiply(A[ 0,:], B[ 1,: ]))\n",
    "print(np.multiply(A[ 1,:], B[ 0,:]))\n"
   ]
  },
  {
   "cell_type": "code",
   "execution_count": null,
   "id": "aedd583e-89a3-4a17-8861-d8912c0e8a07",
   "metadata": {},
   "outputs": [],
   "source": []
  }
 ],
 "metadata": {
  "kernelspec": {
   "display_name": "Python 3 (ipykernel)",
   "language": "python",
   "name": "python3"
  },
  "language_info": {
   "codemirror_mode": {
    "name": "ipython",
    "version": 3
   },
   "file_extension": ".py",
   "mimetype": "text/x-python",
   "name": "python",
   "nbconvert_exporter": "python",
   "pygments_lexer": "ipython3",
   "version": "3.9.10"
  }
 },
 "nbformat": 4,
 "nbformat_minor": 5
}
