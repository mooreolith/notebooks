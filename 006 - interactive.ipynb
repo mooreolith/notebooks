{
 "cells": [
  {
   "cell_type": "markdown",
   "id": "43245323-19b7-434a-8b1c-21f36a096cc7",
   "metadata": {},
   "source": [
    "# JMM-LAYOUT-ENGINE-006\n",
    "\n",
    "Joshua M. Moore<br>\n",
    "6210 Flaming Arrow Rd<br>\n",
    "North Las Vegas, NV 89031<br>\n",
    "\n",
    "7/7/2022\n"
   ]
  },
  {
   "cell_type": "markdown",
   "id": "600f63a8-2048-4ba6-8956-2f0122a6f43c",
   "metadata": {},
   "source": [
    "Was bisher geschah.../What happened so far..."
   ]
  },
  {
   "cell_type": "code",
   "execution_count": 1,
   "id": "5dda4d08-3b67-4f88-875a-6da263842df9",
   "metadata": {
    "jupyter": {
     "source_hidden": true
    },
    "tags": []
   },
   "outputs": [],
   "source": [
    "import math\n",
    "from random import random\n",
    "\n",
    "class Position:\n",
    "    def __init__(self, x=None, y=None, z=None):\n",
    "        self.x = x if x is not None else random()\n",
    "        self.y = y if y is not None else random() \n",
    "        self.z = z if z is not None else random()\n",
    "        \n",
    "    def __add__(self, other):\n",
    "        if 'x' in dir(other):\n",
    "            x = self.x + other.x\n",
    "            y = self.y + other.y\n",
    "            z = self.z + other.z\n",
    "        \n",
    "            return Position(x=x, y=y, z=z)\n",
    "        else:\n",
    "            x = self.x + other\n",
    "            y = self.y + other\n",
    "            z = self.z + other\n",
    "            \n",
    "            return Position(x=x, y=y, z=z)\n",
    "    \n",
    "    def __sub__(self, other):\n",
    "        x = self.x - other.x\n",
    "        y = self.y - other.y\n",
    "        z = self.z - other.z\n",
    "        \n",
    "        return Position(x=x, y=y, z=z)\n",
    "    \n",
    "    def __abs__(self):\n",
    "        a = Position(\n",
    "            x=abs(self.x),\n",
    "            y=abs(self.y),\n",
    "            z=abs(self.z)\n",
    "        )\n",
    "        \n",
    "        return a\n",
    "    \n",
    "    def __mul__(self, other):\n",
    "        if isinstance(other, Position):\n",
    "            return Position(\n",
    "                other.x * self.x,\n",
    "                other.y * self.y,\n",
    "                other.z * self.z\n",
    "            )\n",
    "        \n",
    "        else:\n",
    "            return Position(\n",
    "                x=self.x * other,\n",
    "                y=self.y * other,\n",
    "                z=self.z * other\n",
    "            )\n",
    "        \n",
    "    def __truediv__(self, other):\n",
    "        if isinstance(other, Position):\n",
    "            return Position(\n",
    "                x=self.x / other.x,\n",
    "                y=self.y / other.y,\n",
    "                z=self.z / other.z\n",
    "            )\n",
    "        else:\n",
    "            return Position(\n",
    "                x=self.x / other,\n",
    "                y=self.y / other,\n",
    "                z=self.z / other\n",
    "            )\n",
    "        \n",
    "    def show(self):\n",
    "        return (self.x, self.y, self.z)\n",
    "    \n",
    "    \n",
    "class Vertex:\n",
    "    id = 0\n",
    "    \n",
    "    def __init__(self, pos=Position()):\n",
    "        self.id = Vertex.id\n",
    "        Vertex.id += 1\n",
    "        \n",
    "        self.position = pos\n",
    "    \n",
    "class Edge:\n",
    "    id = 0\n",
    "    \n",
    "    def __init__(self, source, target):\n",
    "        self.id = Edge.id\n",
    "        Edge.id += 1\n",
    "        \n",
    "        self.source = source\n",
    "        self.target = target\n",
    "        \n",
    "    def show(self):\n",
    "        return (self.source.id, self.source.position.show(), self.target.id, self.target.position.show() )\n",
    "    \n",
    "def generateV(n):\n",
    "    result = []\n",
    "    for i in range(n):\n",
    "        result.append(Vertex(pos=Position()))\n",
    "        \n",
    "    return result\n",
    "\n",
    "from random import choice\n",
    "def generateE(n, V):\n",
    "    result = []\n",
    "    for i in range(n):\n",
    "        result.append(Edge(choice(V), choice(V)))\n",
    "\n",
    "    return result\n",
    "        \n",
    "class Settings:\n",
    "    K = Position(x=random(), y=random(), z=random())\n",
    "    eps = Position(x=random(), y=random(), z=random())\n",
    "    rep = Position(x=random(), y=random(), z=random())\n",
    "\n",
    "def spring_potential(V, E, settings):\n",
    "    s = Position(x=0.0, y=0.0, z=0.0)\n",
    "    for edge in E:\n",
    "        source = edge.source\n",
    "        target = edge.target\n",
    "        \n",
    "        s += (abs(source.position - target.position) * Position(0.5, 0.5, 0.5) * settings.K) * (abs(source.position - target.position) * Position(0.5, 0.5, 0.5) * settings.K)\n",
    "        \n",
    "    return s\n",
    "\n",
    "def repulsion_potential(V, E, settings):\n",
    "    s = Position(x=0.0, y=0.0, z=0.0)\n",
    "    for v in V:\n",
    "        for u in V:\n",
    "            if u is not v:\n",
    "                s += (abs(v.position - u.position + settings.eps) * (Position(x=1.0, y=1.0, z=1.0) / settings.rep))\n",
    "                \n",
    "    return s\n",
    "\n",
    "def T(vs, es, settings):\n",
    "    s = Position(x=0.0, y=0.0, z=0.0)\n",
    "    for v in vs:\n",
    "        s += Position(x=0.5, y=0.5, z=0.5) * (abs(v.position)*abs(v.position))\n",
    "    \n",
    "    return s\n",
    "\n",
    "def single_level_dynamics(vs, es, settings):\n",
    "    acceleration = Position(x=0.0, y=0.0, z=0.0)\n",
    "    \n",
    "    spring_s = Position(x=0.0, y=0.0, z=0.0)\n",
    "    for v in vs:\n",
    "        for u in vs:\n",
    "            spring_s += ((settings.K * Position(x=-1.0, y=-1.0, z=-1.0)) * (v.position - u.position))\n",
    "\n",
    "    repuls_s = Position(x=0.0, y=0.0, z=0.0)\n",
    "    for v in vs:\n",
    "        for u in vs:\n",
    "            if v.id is not u.id:\n",
    "                d = v.position - u.position\n",
    "                repuls_s += (settings.rep / (settings.eps + d)*(settings.eps + d)) * (d / abs(d))\n",
    "            \n",
    "    acceleration = spring_s + repuls_s\n",
    "    return acceleration"
   ]
  },
  {
   "cell_type": "markdown",
   "id": "37e736d9-5134-4d96-86fb-5bfd052d2a1e",
   "metadata": {},
   "source": [
    "Not having read about all (extensible!) options available, and copied over working snippets of text from notebooks chronicling their origins as a concept and a final work proof of concept. "
   ]
  },
  {
   "cell_type": "markdown",
   "id": "e60ceec7-3d6f-4db0-8345-6e31ef39b1c7",
   "metadata": {},
   "source": [
    "Next up, we generate a hundred (100) vertices and store them in Vs, and generate seventy-five (75) edges between randomly chosen vertices from the first list, stored in Es. "
   ]
  },
  {
   "cell_type": "code",
   "execution_count": 2,
   "id": "01617114-d83e-4f15-bbbf-66225b495e79",
   "metadata": {},
   "outputs": [],
   "source": [
    "Vs = generateV(100)\n",
    "Es = generateE(75, Vs)"
   ]
  },
  {
   "cell_type": "code",
   "execution_count": 3,
   "id": "98428760-db5f-4b8b-bbe2-ccdd777bf696",
   "metadata": {
    "jupyter": {
     "source_hidden": true
    },
    "tags": []
   },
   "outputs": [
    {
     "data": {
      "text/plain": [
       "[0,\n",
       " 1,\n",
       " 2,\n",
       " 3,\n",
       " 4,\n",
       " 5,\n",
       " 6,\n",
       " 7,\n",
       " 8,\n",
       " 9,\n",
       " 10,\n",
       " 11,\n",
       " 12,\n",
       " 13,\n",
       " 14,\n",
       " 15,\n",
       " 16,\n",
       " 17,\n",
       " 18,\n",
       " 19,\n",
       " 20,\n",
       " 21,\n",
       " 22,\n",
       " 23,\n",
       " 24,\n",
       " 25,\n",
       " 26,\n",
       " 27,\n",
       " 28,\n",
       " 29,\n",
       " 30,\n",
       " 31,\n",
       " 32,\n",
       " 33,\n",
       " 34,\n",
       " 35,\n",
       " 36,\n",
       " 37,\n",
       " 38,\n",
       " 39,\n",
       " 40,\n",
       " 41,\n",
       " 42,\n",
       " 43,\n",
       " 44,\n",
       " 45,\n",
       " 46,\n",
       " 47,\n",
       " 48,\n",
       " 49,\n",
       " 50,\n",
       " 51,\n",
       " 52,\n",
       " 53,\n",
       " 54,\n",
       " 55,\n",
       " 56,\n",
       " 57,\n",
       " 58,\n",
       " 59,\n",
       " 60,\n",
       " 61,\n",
       " 62,\n",
       " 63,\n",
       " 64,\n",
       " 65,\n",
       " 66,\n",
       " 67,\n",
       " 68,\n",
       " 69,\n",
       " 70,\n",
       " 71,\n",
       " 72,\n",
       " 73,\n",
       " 74,\n",
       " 75,\n",
       " 76,\n",
       " 77,\n",
       " 78,\n",
       " 79,\n",
       " 80,\n",
       " 81,\n",
       " 82,\n",
       " 83,\n",
       " 84,\n",
       " 85,\n",
       " 86,\n",
       " 87,\n",
       " 88,\n",
       " 89,\n",
       " 90,\n",
       " 91,\n",
       " 92,\n",
       " 93,\n",
       " 94,\n",
       " 95,\n",
       " 96,\n",
       " 97,\n",
       " 98,\n",
       " 99]"
      ]
     },
     "execution_count": 3,
     "metadata": {},
     "output_type": "execute_result"
    }
   ],
   "source": [
    "[v.id for v in Vs]"
   ]
  },
  {
   "cell_type": "code",
   "execution_count": 4,
   "id": "084cf0a9-919a-4270-b5b4-af18d74fae7a",
   "metadata": {
    "jupyter": {
     "source_hidden": true
    },
    "tags": []
   },
   "outputs": [
    {
     "data": {
      "text/plain": [
       "[(0, 58, 22),\n",
       " (1, 75, 80),\n",
       " (2, 30, 59),\n",
       " (3, 12, 80),\n",
       " (4, 92, 90),\n",
       " (5, 56, 57),\n",
       " (6, 21, 95),\n",
       " (7, 55, 76),\n",
       " (8, 97, 60),\n",
       " (9, 56, 91),\n",
       " (10, 59, 48),\n",
       " (11, 20, 37),\n",
       " (12, 56, 16),\n",
       " (13, 20, 74),\n",
       " (14, 11, 17),\n",
       " (15, 63, 7),\n",
       " (16, 31, 45),\n",
       " (17, 30, 54),\n",
       " (18, 68, 42),\n",
       " (19, 48, 15),\n",
       " (20, 51, 42),\n",
       " (21, 74, 23),\n",
       " (22, 47, 1),\n",
       " (23, 26, 72),\n",
       " (24, 51, 82),\n",
       " (25, 93, 72),\n",
       " (26, 46, 74),\n",
       " (27, 8, 88),\n",
       " (28, 56, 86),\n",
       " (29, 12, 72),\n",
       " (30, 79, 12),\n",
       " (31, 78, 10),\n",
       " (32, 77, 40),\n",
       " (33, 4, 12),\n",
       " (34, 83, 26),\n",
       " (35, 92, 59),\n",
       " (36, 84, 54),\n",
       " (37, 5, 45),\n",
       " (38, 37, 15),\n",
       " (39, 18, 39),\n",
       " (40, 38, 41),\n",
       " (41, 83, 5),\n",
       " (42, 19, 88),\n",
       " (43, 59, 26),\n",
       " (44, 33, 44),\n",
       " (45, 64, 80),\n",
       " (46, 47, 14),\n",
       " (47, 7, 73),\n",
       " (48, 86, 71),\n",
       " (49, 68, 2),\n",
       " (50, 43, 93),\n",
       " (51, 0, 59),\n",
       " (52, 84, 88),\n",
       " (53, 31, 89),\n",
       " (54, 81, 57),\n",
       " (55, 65, 46),\n",
       " (56, 86, 95),\n",
       " (57, 71, 86),\n",
       " (58, 58, 54),\n",
       " (59, 65, 42),\n",
       " (60, 90, 31),\n",
       " (61, 55, 23),\n",
       " (62, 55, 89),\n",
       " (63, 93, 15),\n",
       " (64, 40, 56),\n",
       " (65, 36, 8),\n",
       " (66, 10, 57),\n",
       " (67, 86, 72),\n",
       " (68, 97, 42),\n",
       " (69, 28, 97),\n",
       " (70, 98, 1),\n",
       " (71, 7, 18),\n",
       " (72, 47, 36),\n",
       " (73, 23, 64),\n",
       " (74, 25, 29)]"
      ]
     },
     "execution_count": 4,
     "metadata": {},
     "output_type": "execute_result"
    }
   ],
   "source": [
    "[(e.id, e.source.id, e.target.id) for e in Es]"
   ]
  },
  {
   "cell_type": "markdown",
   "id": "1b4774c7-d671-4db5-ab31-5462a4c3b11c",
   "metadata": {},
   "source": [
    "The functions repulsion_potential, spring_potential, and single_level_layout are all defined in the block above. \n",
    "\n",
    "The function f takes as arguments `K`, `eps`, and `rep`, three constants defined in `Settings`, and returns a tuple of inputs and outputs, while rendering a bar plot controlled by three slider controls for the three function arguments. The name f has no particular meaning, it is a function that gets passed to matplotlib's interact. "
   ]
  },
  {
   "cell_type": "code",
   "execution_count": 5,
   "id": "44373039-7c12-461e-855b-cbea35979c78",
   "metadata": {},
   "outputs": [
    {
     "data": {
      "application/vnd.jupyter.widget-view+json": {
       "model_id": "ea0a5e04fbb14af4a0063d461e71e846",
       "version_major": 2,
       "version_minor": 0
      },
      "text/plain": [
       "Label(value='Settings')"
      ]
     },
     "metadata": {},
     "output_type": "display_data"
    },
    {
     "data": {
      "application/vnd.jupyter.widget-view+json": {
       "model_id": "a5c785a2610f44d3a05342158103cb58",
       "version_major": 2,
       "version_minor": 0
      },
      "text/plain": [
       "Label(value='K: Spring Constant')"
      ]
     },
     "metadata": {},
     "output_type": "display_data"
    },
    {
     "data": {
      "application/vnd.jupyter.widget-view+json": {
       "model_id": "ad435f0ac53b40fd8afb877ef82cb4c2",
       "version_major": 2,
       "version_minor": 0
      },
      "text/plain": [
       "Label(value='eps: Epsilon, small value to avoid 0 before division')"
      ]
     },
     "metadata": {},
     "output_type": "display_data"
    },
    {
     "data": {
      "application/vnd.jupyter.widget-view+json": {
       "model_id": "4b586505071446f99fe2d70c0757b941",
       "version_major": 2,
       "version_minor": 0
      },
      "text/plain": [
       "Label(value='rep: Repulsion constant')"
      ]
     },
     "metadata": {},
     "output_type": "display_data"
    },
    {
     "data": {
      "application/vnd.jupyter.widget-view+json": {
       "model_id": "14c71b63375445539129605d670629d8",
       "version_major": 2,
       "version_minor": 0
      },
      "text/plain": [
       "interactive(children=(FloatSlider(value=30.0, description='Spring Constant K', step=0.01), FloatSlider(value=0…"
      ]
     },
     "metadata": {},
     "output_type": "display_data"
    },
    {
     "data": {
      "text/plain": [
       "<function __main__.f(K, eps, rep)>"
      ]
     },
     "execution_count": 5,
     "metadata": {},
     "output_type": "execute_result"
    }
   ],
   "source": [
    "from ipywidgets import interactive\n",
    "from ipywidgets import FloatSlider\n",
    "from ipywidgets import Label\n",
    "from ipywidgets import interact, interactive, fixed, interact_manual\n",
    "import matplotlib.pyplot as plt\n",
    "from statistics import mean\n",
    "\n",
    "display(*[\n",
    "    Label(\"Settings\"),\n",
    "    Label(\"K: Spring Constant\"),\n",
    "    Label(\"eps: Epsilon, small value to avoid 0 before division\"),\n",
    "    Label(\"rep: Repulsion constant\"),\n",
    "])\n",
    "\n",
    "def f(K, eps, rep):\n",
    "    Settings.K = Position(K, K, K)\n",
    "    Settings.eps = Position(eps, eps, eps)\n",
    "    Settings.rep = Position(rep, rep, rep)\n",
    "    \n",
    "    spring = spring_potential(Vs, Es, Settings)\n",
    "    repulsion = repulsion_potential(Vs, Es, Settings)\n",
    "    single = single_level_dynamics(Vs, Es, Settings)\n",
    "    \n",
    "    spring = mean([spring.x, spring.y, spring.z])\n",
    "    repulsion = mean([repulsion.x, repulsion.y, repulsion.z])\n",
    "    single = mean([single.x, single.y, single.z])\n",
    "    \n",
    "    plt.bar(x=['spring', 'repulsion', 'single'], height=(\n",
    "        spring,\n",
    "        repulsion,\n",
    "        single\n",
    "    ))\n",
    "    \n",
    "    return ('Inputs',\n",
    "        '|V|: ' + str(len(Vs)), \n",
    "        '|E|: ' + str(len(Es)), \n",
    "        'K: ' + str(K), \n",
    "        'Epsilon: ' + str(eps), \n",
    "        'Repulsion: ' + str(rep),\n",
    "        'Outputs',\n",
    "        'Spring Potential: ' + str(spring),\n",
    "        'Repulsion Potential: ' + str(repulsion),\n",
    "        'Single Level Dynamics: ' + str(single)\n",
    "    )\n",
    "\n",
    "interact(\n",
    "    f, \n",
    "    K = FloatSlider(value=30.0, min=0.0, max=100.0, step=0.01, description=\"Spring Constant K\"),\n",
    "    eps = FloatSlider(value=0.1, description=\"Division Guard Epsilon\"),\n",
    "    rep = FloatSlider(value=9.0, min=0.0, max=100.0, step=0.01, description=\"Repulsion Constant\")\n",
    ")"
   ]
  },
  {
   "cell_type": "markdown",
   "id": "c72979b3-c5c6-487d-b5a2-d25ddad0649d",
   "metadata": {},
   "source": [
    "It works! THe spring potential and the repulsion potential are evened out at about SC 48.87 and RC 35.46. Single Level Dynamics, compared to the spring and repulsion outputs is tiny, cannot be seen in this setup, and should probably be factored into its own chart."
   ]
  },
  {
   "cell_type": "code",
   "execution_count": 8,
   "id": "35318664-719e-4717-b004-39aed2e1e329",
   "metadata": {},
   "outputs": [
    {
     "data": {
      "application/vnd.jupyter.widget-view+json": {
       "model_id": "bbd5bd2b37d84af99b35945f21fd2d3a",
       "version_major": 2,
       "version_minor": 0
      },
      "text/plain": [
       "interactive(children=(FloatSlider(value=30.0, description='Spring Constant K', step=0.01), Output()), _dom_cla…"
      ]
     },
     "metadata": {},
     "output_type": "display_data"
    },
    {
     "data": {
      "text/plain": [
       "<function __main__.g(K)>"
      ]
     },
     "execution_count": 8,
     "metadata": {},
     "output_type": "execute_result"
    }
   ],
   "source": [
    "configs = []\n",
    "heights = []\n",
    "\n",
    "def g(K):\n",
    "    Vs = generateV(10)\n",
    "    Es = generateE(8, Vs)\n",
    "    \n",
    "    Settings.K = Position(K, K, K)\n",
    "    config = mean((Settings.K.x, Settings.K.y, Settings.K.z))\n",
    "    configs.append(config)\n",
    "    \n",
    "    single = single_level_dynamics(Vs, Es, Settings)\n",
    "    single = mean([single.x, single.y, single.z])\n",
    "    heights.append(single)\n",
    "    \n",
    "    plt.scatter(configs, heights)\n",
    "    \n",
    "interact(g,     \n",
    "    K = FloatSlider(value=30.0, min=0.0, max=100.0, step=0.01, description=\"Spring Constant K\"),\n",
    "    eps = FloatSlider(value=0.1, description=\"Division Guard Epsilon\"),\n",
    "    rep = FloatSlider(value=9.0, min=0.0, max=100.0, step=0.01, description=\"Repulsion Constant\"))"
   ]
  },
  {
   "cell_type": "code",
   "execution_count": null,
   "id": "7ac83bb8-ba1e-453f-b08e-d4f1dffba363",
   "metadata": {},
   "outputs": [],
   "source": []
  },
  {
   "cell_type": "code",
   "execution_count": null,
   "id": "b8b0609e-554b-4b87-a750-b9cd93ab58a0",
   "metadata": {},
   "outputs": [],
   "source": []
  }
 ],
 "metadata": {
  "kernelspec": {
   "display_name": "Python 3 (ipykernel)",
   "language": "python",
   "name": "python3"
  },
  "language_info": {
   "codemirror_mode": {
    "name": "ipython",
    "version": 3
   },
   "file_extension": ".py",
   "mimetype": "text/x-python",
   "name": "python",
   "nbconvert_exporter": "python",
   "pygments_lexer": "ipython3",
   "version": "3.9.10"
  }
 },
 "nbformat": 4,
 "nbformat_minor": 5
}
