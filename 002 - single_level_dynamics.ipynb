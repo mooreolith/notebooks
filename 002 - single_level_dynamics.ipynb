{
 "cells": [
  {
   "cell_type": "code",
   "execution_count": 1,
   "id": "295aafb8-70b8-4aa9-a65e-599f2c1dc5f6",
   "metadata": {
    "tags": []
   },
   "outputs": [],
   "source": [
    "import math\n",
    "from random import random\n",
    "\n",
    "class Position:\n",
    "    def __init__(self, x=None, y=None, z=None):\n",
    "        self.x = x if x is not None else random()\n",
    "        self.y = y if y is not None else random() \n",
    "        self.z = z if z is not None else random()\n",
    "        \n",
    "    def __add__(self, other):\n",
    "        x = self.x + other.x\n",
    "        y = self.y + other.y\n",
    "        z = self.z + other.z\n",
    "        \n",
    "        return Position(x=x, y=y, z=z)\n",
    "    \n",
    "    def __sub__(self, other):\n",
    "        x = self.x - other.x\n",
    "        y = self.y - other.y\n",
    "        z = self.z - other.z\n",
    "        \n",
    "        return Position(x=x, y=y, z=z)\n",
    "    \n",
    "    def __abs__(self):\n",
    "        a = Position(\n",
    "            x=abs(self.x),\n",
    "            y=abs(self.y),\n",
    "            z=abs(self.z)\n",
    "        )\n",
    "        \n",
    "        return a\n",
    "    \n",
    "    def __mul__(self, other):\n",
    "        if isinstance(other, Position):\n",
    "            return Position(\n",
    "                other.x * self.x,\n",
    "                other.y * self.y,\n",
    "                other.z * self.z\n",
    "            )\n",
    "        \n",
    "        else:\n",
    "            return Position(\n",
    "                x=self.x * other,\n",
    "                y=self.y * other,\n",
    "                z=self.z * other\n",
    "            )\n",
    "        \n",
    "    def __truediv__(self, other):\n",
    "        if isinstance(other, Position):\n",
    "            return Position(\n",
    "                x=self.x / other.x,\n",
    "                y=self.y / other.y,\n",
    "                z=self.z / other.z\n",
    "            )\n",
    "        else:\n",
    "            return Position(\n",
    "                x=self.x / other,\n",
    "                y=self.y / other,\n",
    "                z=self.z / other\n",
    "            )\n",
    "        \n",
    "    def show(self):\n",
    "        return (self.x, self.y, self.z)\n",
    "    \n",
    "    \n",
    "class Vertex:\n",
    "    id = 0\n",
    "    \n",
    "    def __init__(self, pos=Position()):\n",
    "        self.id = Vertex.id\n",
    "        Vertex.id += 1\n",
    "        \n",
    "        self.position = pos\n",
    "    \n",
    "class Edge:\n",
    "    def __init__(self, source, target):\n",
    "        self.source = source\n",
    "        self.target = target\n",
    "        \n",
    "    def show(self):\n",
    "        return (self.source.id, self.source.position.show(), self.target.id, self.target.position.show() )\n",
    "    \n",
    "def generateV(n):\n",
    "    result = []\n",
    "    for i in range(n):\n",
    "        result.append(Vertex(pos=Position()))\n",
    "        \n",
    "    return result\n",
    "\n",
    "from random import choice\n",
    "def generateE(n, V):\n",
    "    result = []\n",
    "    for i in range(n):\n",
    "        result.append(Edge(choice(V), choice(V)))\n",
    "\n",
    "    return result\n",
    "        \n",
    "class Settings:\n",
    "    K = Position(x=random(), y=random(), z=random())\n",
    "    eps = Position(x=random(), y=random(), z=random())\n",
    "    rep = Position(x=random(), y=random(), z=random())"
   ]
  },
  {
   "cell_type": "code",
   "execution_count": 2,
   "id": "ece5dac0-3f12-4753-86f5-daf92d24d378",
   "metadata": {},
   "outputs": [],
   "source": [
    "V = generateV(10)\n",
    "E = generateE(7, V)"
   ]
  },
  {
   "cell_type": "code",
   "execution_count": 3,
   "id": "d04ebec9-3085-49f7-8026-c8e6977f240a",
   "metadata": {},
   "outputs": [
    {
     "name": "stdout",
     "output_type": "stream",
     "text": [
      "[(0, (0.7598097482532461, 0.6811887952919085, 0.21197729023426726)), (1, (0.7039758097216428, 0.0941665206794815, 0.06038275716037245)), (2, (0.20514657727695218, 0.3842239555995849, 0.06398167023605938)), (3, (0.014231809909293625, 0.5408107483715459, 0.5859380860741737)), (4, (0.8257528617312253, 0.512739388486035, 0.7528485751641432)), (5, (0.21634992070139047, 0.6680710250083056, 0.1218088224958439)), (6, (0.9713914552084097, 0.15488101409251787, 0.21742780553607488)), (7, (0.3603361931621317, 0.15125959235061714, 0.4982945555119903)), (8, (0.2886911817510823, 0.6444320041191512, 0.7770444019667674)), (9, (0.3957378643995233, 0.7334141950755056, 0.8667340633981746))]\n",
      "[(1, 5), (5, 6), (0, 9), (5, 6), (5, 1), (9, 2), (8, 9)]\n"
     ]
    }
   ],
   "source": [
    "print([(v.id, v.position.show()) for v in V])\n",
    "print([(e.source.id, e.target.id) for e in E])"
   ]
  },
  {
   "cell_type": "code",
   "execution_count": 4,
   "id": "d8b0d303-5bad-49cd-a494-8d0c7779c9ad",
   "metadata": {},
   "outputs": [],
   "source": [
    "def spring_potential(V, E, settings):\n",
    "    s = Position(x=0.0, y=0.0, z=0.0)\n",
    "    for edge in E:\n",
    "        source = edge.source\n",
    "        target = edge.target\n",
    "        \n",
    "        s += (abs(source.position - target.position) * Position(0.5, 0.5, 0.5) * settings.K) * (\n",
    "            (source.position - target.position) * Position(0.5, 0.5, 0.5) * settings.K)\n",
    "        \n",
    "    return s\n",
    "\n",
    "def repulsion_potential(V, E, settings):\n",
    "    s = Position(x=0.0, y=0.0, z=0.0)\n",
    "    for v in V:\n",
    "        for u in V:\n",
    "            if u is not v:\n",
    "                s += (abs(v.position - u.position + settings.eps) * (Position(x=1.0, y=1.0, z=1.0) / settings.rep))\n",
    "                \n",
    "    return s\n"
   ]
  },
  {
   "cell_type": "markdown",
   "id": "54baae67-fbad-48cd-8899-93de9e713715",
   "metadata": {},
   "source": [
    "## Live Testing spring_potential"
   ]
  },
  {
   "cell_type": "code",
   "execution_count": 5,
   "id": "9d77b8f3-39b6-42f3-ad51-22f217848687",
   "metadata": {},
   "outputs": [
    {
     "data": {
      "application/vnd.jupyter.widget-view+json": {
       "model_id": "275af884b2524ab9ab277f428db73221",
       "version_major": 2,
       "version_minor": 0
      },
      "text/plain": [
       "interactive(children=(FloatSlider(value=0.5, description='x', max=1.5, min=-0.5), Output()), _dom_classes=('wi…"
      ]
     },
     "metadata": {},
     "output_type": "display_data"
    },
    {
     "data": {
      "text/plain": [
       "<function __main__.f(x)>"
      ]
     },
     "metadata": {},
     "output_type": "display_data"
    }
   ],
   "source": [
    "from ipywidgets import interact, interactive, fixed, interact_manual\n",
    "import ipywidgets as widgets\n",
    "\n",
    "def f(x):\n",
    "    Settings.K = x\n",
    "    return spring_potential(V, E, Settings).show()\n",
    "\n",
    "display(interact(f, x=0.5))"
   ]
  },
  {
   "cell_type": "markdown",
   "id": "80b8102d-dbf5-45ad-b253-5b96695e0da1",
   "metadata": {},
   "source": [
    "## Live Testing repulsion_potential"
   ]
  },
  {
   "cell_type": "code",
   "execution_count": 6,
   "id": "85198baf-50a4-40aa-af75-bf12f60637fd",
   "metadata": {},
   "outputs": [
    {
     "data": {
      "application/vnd.jupyter.widget-view+json": {
       "model_id": "2b9e8bc409ab4ad8ad675d2aadce47bb",
       "version_major": 2,
       "version_minor": 0
      },
      "text/plain": [
       "interactive(children=(FloatSlider(value=0.5, description='x', max=1.5, min=-0.5), Output()), _dom_classes=('wi…"
      ]
     },
     "metadata": {},
     "output_type": "display_data"
    },
    {
     "data": {
      "text/plain": [
       "<function __main__.g(x)>"
      ]
     },
     "metadata": {},
     "output_type": "display_data"
    }
   ],
   "source": [
    "def g(x):\n",
    "    Settings.rep = x\n",
    "    return repulsion_potential(V, E, Settings).show()\n",
    "\n",
    "display(interact(g, x=0.5))"
   ]
  },
  {
   "cell_type": "code",
   "execution_count": 7,
   "id": "ef26100f-ea58-4112-841a-b3509ba01677",
   "metadata": {},
   "outputs": [
    {
     "data": {
      "application/vnd.jupyter.widget-view+json": {
       "model_id": "0a51d316fb7a488ea98b8600c6e97d45",
       "version_major": 2,
       "version_minor": 0
      },
      "text/plain": [
       "interactive(children=(FloatSlider(value=0.5, description='rep', max=1.5, min=-0.5), FloatSlider(value=0.5, des…"
      ]
     },
     "metadata": {},
     "output_type": "display_data"
    },
    {
     "data": {
      "text/plain": [
       "<function __main__.h(rep, k)>"
      ]
     },
     "metadata": {},
     "output_type": "display_data"
    }
   ],
   "source": [
    "def h(rep, k):\n",
    "    Settings.rep = rep\n",
    "    Settings.K = k\n",
    "    return (\n",
    "        'RP: ', repulsion_potential(V, E, Settings).show(),\n",
    "        'SP: ', spring_potential(V, E, Settings).show()\n",
    "    )\n",
    "\n",
    "display(interact(h, rep=0.5, k=0.5))"
   ]
  },
  {
   "cell_type": "markdown",
   "id": "f0ed13e8-04fc-4ed2-9042-b15ae145eae5",
   "metadata": {},
   "source": [
    "## Sprinkling in matplotlib"
   ]
  },
  {
   "cell_type": "code",
   "execution_count": 8,
   "id": "ffad6a00-114b-4be0-8d5f-c2f5657e0774",
   "metadata": {},
   "outputs": [],
   "source": [
    "import matplotlib.pyplot as plt"
   ]
  },
  {
   "cell_type": "code",
   "execution_count": 9,
   "id": "3cc57e18-88e1-46fe-adc1-d0ab2497a697",
   "metadata": {},
   "outputs": [
    {
     "name": "stdout",
     "output_type": "stream",
     "text": [
      "(-0.08720786926279189, 0.06722238848612255, -0.0116274071463704)\n",
      "(2713.444478815094, 1728.9926020800876, 1804.1067922766754)\n"
     ]
    }
   ],
   "source": [
    "Vs = generateV(50)\n",
    "Es = generateE(15, Vs)\n",
    "\n",
    "print(spring_potential(Vs, Es, Settings).show())\n",
    "print(repulsion_potential(Vs, Es, Settings).show())"
   ]
  },
  {
   "cell_type": "markdown",
   "id": "50b025b1-e8df-46a1-872c-e4f41bcd79eb",
   "metadata": {},
   "source": [
    "### Plotting Data"
   ]
  },
  {
   "cell_type": "code",
   "execution_count": 10,
   "id": "ad933b40-154d-4fb7-9cfe-208bd66cfbb7",
   "metadata": {},
   "outputs": [
    {
     "data": {
      "image/png": "[encoded data removed]",
      "text/plain": [
       "<Figure size 432x288 with 1 Axes>"
      ]
     },
     "metadata": {
      "needs_background": "light"
     },
     "output_type": "display_data"
    }
   ],
   "source": [
    "vsx = list(map(lambda v: v.position.x, Vs))\n",
    "vsy = list(map(lambda v: v.position.y, Vs))\n",
    "vsz = list(map(lambda v: v.position.z, Vs))\n",
    "\n",
    "vsavg = [(vsx[i] + vsy[i] + vsz[i]) / 3 for i in range(len(vsx))]\n",
    "\n",
    "# plt.plot(vsx, 'ro')\n",
    "# plt.plot(vsy, 'go')\n",
    "# plt.plot(vsz, 'bo')\n",
    "\n",
    "plt.scatter(range(len(vsx)), vsavg)\n",
    "plt.show()"
   ]
  },
  {
   "cell_type": "code",
   "execution_count": 11,
   "id": "4a2323c9-486a-477f-b8ab-dd9f6691724b",
   "metadata": {},
   "outputs": [
    {
     "data": {
      "text/plain": [
       "26.985766922645603"
      ]
     },
     "execution_count": 11,
     "metadata": {},
     "output_type": "execute_result"
    }
   ],
   "source": [
    "sum(vsavg)"
   ]
  },
  {
   "cell_type": "code",
   "execution_count": 12,
   "id": "3bb2b8df-533e-42d4-8436-3d838bc0d3d8",
   "metadata": {},
   "outputs": [
    {
     "data": {
      "text/plain": [
       "0.5397153384529121"
      ]
     },
     "execution_count": 12,
     "metadata": {},
     "output_type": "execute_result"
    }
   ],
   "source": [
    "a = sum(vsavg) / len(vsavg)\n",
    "a"
   ]
  },
  {
   "cell_type": "code",
   "execution_count": 13,
   "id": "67c6a425-3310-4bc7-a3cc-7ab0298988a6",
   "metadata": {},
   "outputs": [
    {
     "ename": "SyntaxError",
     "evalue": "invalid syntax (799132526.py, line 1)",
     "output_type": "error",
     "traceback": [
      "\u001b[0;36m  Input \u001b[0;32mIn [13]\u001b[0;36m\u001b[0m\n\u001b[0;31m    plt.scatter(, 100)\u001b[0m\n\u001b[0m                ^\u001b[0m\n\u001b[0;31mSyntaxError\u001b[0m\u001b[0;31m:\u001b[0m invalid syntax\n"
     ]
    }
   ],
   "source": [
    "plt.scatter(, 100)\n",
    "plt.show()"
   ]
  },
  {
   "cell_type": "code",
   "execution_count": null,
   "id": "073166c8-753b-4f1c-94e1-7f10ce2201fd",
   "metadata": {},
   "outputs": [],
   "source": [
    "plt.bar??"
   ]
  },
  {
   "cell_type": "markdown",
   "id": "cc9ffede-d3f8-483b-ac9e-9b417f385a7d",
   "metadata": {},
   "source": [
    "## Combining Live Variables and Plot"
   ]
  },
  {
   "cell_type": "code",
   "execution_count": null,
   "id": "3e7f2f70-0983-498f-864c-09d7241ca5a2",
   "metadata": {},
   "outputs": [],
   "source": [
    "vals = []\n",
    "effects = {\n",
    "    'name': [],\n",
    "    'x': [],\n",
    "    'on': []\n",
    "}\n",
    "last = None\n",
    "    \n",
    "    \n",
    "def vis(rep, k):\n",
    "    Settings.rep = rep\n",
    "    Settings.K = k\n",
    "\n",
    "    vals.append({\n",
    "        'rep': Settings.rep,\n",
    "        'K': Settings.K,\n",
    "        'RP': repulsion_potential(Vs, Es, Settings),\n",
    "        'SP': spring_potential(Vs, Es, Settings)\n",
    "    })\n",
    "    \n",
    "    reps = [r['rep'] for r in vals]\n",
    "    ks = [r['K'] for r in vals]\n",
    "    rp = [r['RP'] for r in vals]\n",
    "    sp = [r['SP'] for r in vals]\n",
    "    \n",
    "    plt.bar(range(len(ks)), ks)\n",
    "    \n",
    "display(interact(vis, rep=0.5, k=0.5))"
   ]
  },
  {
   "cell_type": "code",
   "execution_count": null,
   "id": "e4b539cf-248e-4cba-9322-8576549ff255",
   "metadata": {},
   "outputs": [],
   "source": [
    "def T(vs, es, settings):\n",
    "    s = Position(x=0.0, y=0.0, z=0.0)\n",
    "    for v in vs:\n",
    "        s += Position(x=0.5, y=0.5, z=0.5) * (abs(v.position)*abs(v.position))\n",
    "    \n",
    "    return s"
   ]
  },
  {
   "cell_type": "code",
   "execution_count": null,
   "id": "817aa41d-4ebe-495a-b2c0-e93fca0fd0b6",
   "metadata": {},
   "outputs": [],
   "source": [
    "T(Vs, Es, Settings).show()"
   ]
  },
  {
   "cell_type": "code",
   "execution_count": null,
   "id": "474151d3-5b62-42c4-959e-7305070f86a5",
   "metadata": {},
   "outputs": [],
   "source": [
    "def V(vs, es, settings):\n",
    "    return spring_potential(vs, es, settings) + repulsion_potential(vs, es, settings)"
   ]
  },
  {
   "cell_type": "code",
   "execution_count": null,
   "id": "a151f6e5-c18d-4ef1-897d-ad068ede0bfa",
   "metadata": {},
   "outputs": [],
   "source": [
    "def L(vs, es, settings):\n",
    "    return T(vs, es, settings) - V(vs, es, settings)"
   ]
  },
  {
   "cell_type": "code",
   "execution_count": null,
   "id": "56c46e54-9894-45f7-8e3e-2b3a23360f04",
   "metadata": {},
   "outputs": [],
   "source": [
    "print(L(Vs, Es, Settings).show())\n",
    "print(T(Vs, Es, Settings).show())\n",
    "print(V(Vs, Es, Settings).show())"
   ]
  },
  {
   "cell_type": "code",
   "execution_count": null,
   "id": "b8448cf1-46cf-48d7-8890-ac2cfffdf183",
   "metadata": {},
   "outputs": [],
   "source": [
    "def single_level_dynamics(vs, es, settings):\n",
    "    acceleration = Position(x=0.0, y=0.0, z=0.0)\n",
    "    \n",
    "    spring_s = Position(x=0.0, y=0.0, z=0.0)\n",
    "    for v in vs:\n",
    "        for u in vs:\n",
    "            spring_s += ((settings.K * Position(x=-1.0, y=-1.0, z=-1.0)) * (v.position - u.position))\n",
    "\n",
    "    repuls_s = Position(x=0.0, y=0.0, z=0.0)\n",
    "    for v in vs:\n",
    "        for u in vs:\n",
    "            if v.id is not u.id:\n",
    "                d = v.position - u.position\n",
    "                repuls_s += (settings.rep / (settings.eps + d)*(settings.eps + d)) * (d / abs(d))\n",
    "            \n",
    "    acceleration = spring_s + repuls_s\n",
    "    return acceleration"
   ]
  },
  {
   "cell_type": "code",
   "execution_count": null,
   "id": "05fd728e-03d1-41a5-b082-96547b58bde6",
   "metadata": {},
   "outputs": [],
   "source": [
    "single_level_dynamics(Vs, Es, Settings).show()"
   ]
  },
  {
   "cell_type": "raw",
   "id": "28f55587-002a-4a49-b2bc-557027428b8a",
   "metadata": {},
   "source": []
  },
  {
   "cell_type": "code",
   "execution_count": null,
   "id": "7c033caa-23c2-41aa-9126-be8f14873e30",
   "metadata": {},
   "outputs": [],
   "source": []
  }
 ],
 "metadata": {
  "kernelspec": {
   "display_name": "Python 3 (ipykernel)",
   "language": "python",
   "name": "python3"
  },
  "language_info": {
   "codemirror_mode": {
    "name": "ipython",
    "version": 3
   },
   "file_extension": ".py",
   "mimetype": "text/x-python",
   "name": "python",
   "nbconvert_exporter": "python",
   "pygments_lexer": "ipython3",
   "version": "3.9.10"
  }
 },
 "nbformat": 4,
 "nbformat_minor": 5
}
