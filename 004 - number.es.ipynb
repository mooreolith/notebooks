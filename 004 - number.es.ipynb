{
 "cells": [
  {
   "cell_type": "code",
   "execution_count": 1,
   "id": "3a0f888c-b155-423b-bc1d-e8aff0585df0",
   "metadata": {},
   "outputs": [
    {
     "data": {
      "text/plain": [
       "-Infinity"
      ]
     },
     "execution_count": 1,
     "metadata": {},
     "output_type": "execute_result"
    }
   ],
   "source": [
    "Math.max()"
   ]
  },
  {
   "cell_type": "code",
   "execution_count": 2,
   "id": "48c98e6d-036f-4496-bebc-4b7dda6841ce",
   "metadata": {},
   "outputs": [
    {
     "data": {
      "text/plain": [
       "Infinity"
      ]
     },
     "execution_count": 2,
     "metadata": {},
     "output_type": "execute_result"
    }
   ],
   "source": [
    "Math.min()"
   ]
  },
  {
   "cell_type": "code",
   "execution_count": null,
   "id": "e03630f8-08c4-446e-9e1e-2aca7ff9fd9f",
   "metadata": {},
   "outputs": [],
   "source": [
    "number = 10.0\n",
    "exp = 1.0\n",
    "\n",
    "while(true){\n",
    "    number = number + 10.0^(-1*exp)\n",
    "    exp++\n",
    "    \n",
    "    console.log(exp)\n",
    "}"
   ]
  },
  {
   "cell_type": "code",
   "execution_count": null,
   "id": "7122acdd-d345-4d8a-a5f5-eb33c771ba8c",
   "metadata": {},
   "outputs": [],
   "source": []
  }
 ],
 "metadata": {
  "kernelspec": {
   "display_name": "JavaScript (Node.js)",
   "language": "javascript",
   "name": "javascript"
  },
  "language_info": {
   "file_extension": ".js",
   "mimetype": "application/javascript",
   "name": "javascript",
   "version": "16.14.0"
  }
 },
 "nbformat": 4,
 "nbformat_minor": 5
}
